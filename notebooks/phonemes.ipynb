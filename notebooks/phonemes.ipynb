{
 "cells": [
  {
   "cell_type": "code",
   "execution_count": 1,
   "id": "0c8d5c34-6fad-4073-b40b-8723b17ddca5",
   "metadata": {},
   "outputs": [
    {
     "data": {
      "text/plain": [
       "\u001b[32mimport \u001b[39m\u001b[36mcoursierapi._\n",
       "\u001b[39m"
      ]
     },
     "execution_count": 1,
     "metadata": {},
     "output_type": "execute_result"
    }
   ],
   "source": [
    "import coursierapi._\n",
    "interp.repositories() ++= Seq(\n",
    "      MavenRepository.of(\"https://jitpack.io\")\n",
    "  )"
   ]
  },
  {
   "cell_type": "code",
   "execution_count": 2,
   "id": "ff35630e-6754-4624-9365-56f7839b7626",
   "metadata": {},
   "outputs": [
    {
     "data": {
      "text/plain": [
       "\u001b[32mimport \u001b[39m\u001b[36m$ivy.$                                                   \n",
       "\u001b[39m\n",
       "\u001b[32mimport \u001b[39m\u001b[36m$ivy.$                                      \n",
       "\u001b[39m\n",
       "\u001b[32mimport \u001b[39m\u001b[36mmathlib.set.SetTheory._\n",
       "\u001b[39m\n",
       "\u001b[32mimport \u001b[39m\u001b[36mscala.util.Random\n",
       "\u001b[39m\n",
       "\u001b[32mimport \u001b[39m\u001b[36mplotly._\n",
       "\u001b[39m\n",
       "\u001b[32mimport \u001b[39m\u001b[36mplotly.element._\n",
       "\u001b[39m\n",
       "\u001b[32mimport \u001b[39m\u001b[36mplotly.layout._\n",
       "\u001b[39m\n",
       "\u001b[32mimport \u001b[39m\u001b[36mplotly.Almond._\u001b[39m"
      ]
     },
     "execution_count": 2,
     "metadata": {},
     "output_type": "execute_result"
    }
   ],
   "source": [
    "import $ivy.`com.github.markblokpoel.mathlib::mathlib:-SNAPSHOT`\n",
    "import $ivy.`org.plotly-scala::plotly-almond:0.8.1`\n",
    "import mathlib.set.SetTheory._\n",
    "import scala.util.Random\n",
    "import plotly._\n",
    "import plotly.element._\n",
    "import plotly.layout._\n",
    "import plotly.Almond._"
   ]
  },
  {
   "cell_type": "markdown",
   "id": "b8aeb689-7cb9-4d83-ba1f-d0e4d61c194e",
   "metadata": {},
   "source": [
    "## The unweighted model\n",
    "\n",
    "<span style=\"font-variant: small-caps;\">D'Souza-Enge-Govaart-Slocombe-model (unweighted)</span> model\n",
    "\n",
    "**Input:** A raw speech input $a \\in \\mathbb{R}$, where $0\\leq a\\leq 1$. A set of current phoneme categories $P=\\{p_1, p_2, ..., p_n\\}$, where each $p_i\\in\\mathbb{R}$ and $0\\leq p_i\\leq 1$. A membership threshold $t\\in \\mathbb{R}$, where $0\\leq t\\leq 1$.\n",
    "\n",
    "**Output:** A set of updated phoneme categories $P'$, where $P'=P \\cup \\{a\\}$ if all current phoneme categories differ more than $t$ from $a$, i.e., if $\\forall_{p\\in P}~|p-a|>t$. Else, $P'=P\\setminus p \\cup \\{\\frac{p + a}{2}\\}$, where $|p-a|<t$ and $|p-a|$ is minimal.\n",
    "\n",
    "The function below is an exact implementation of the formal theory. It takes a single raw input, a threshold and a set of current phoneme categories and computes a new set of phoneme categories."
   ]
  },
  {
   "cell_type": "code",
   "execution_count": 3,
   "id": "eeae74e2-07ea-4a0b-a0a9-538749096b95",
   "metadata": {},
   "outputs": [
    {
     "data": {
      "text/plain": [
       "defined \u001b[32mfunction\u001b[39m \u001b[36mphonemeCategorizationUnw\u001b[39m"
      ]
     },
     "execution_count": 3,
     "metadata": {},
     "output_type": "execute_result"
    }
   ],
   "source": [
    "def phonemeCategorizationUnw(\n",
    "    rawInput: Double,\n",
    "    threshold: Double,\n",
    "    currentCategories: Set[Double]\n",
    "): Set[Double] = {\n",
    "    require(rawInput >= 0 && rawInput <= 1, \"rawInput is not between 0 and 1\")\n",
    "    require(currentCategories.forall(p => p >= 0 && p <= 1), \"not all currentCategories are between 0 and 1\")\n",
    "    require(threshold >= 0 && threshold <= 1, \"threshold is not between 0 and 1\")\n",
    "    \n",
    "    def inverseDistance(p1: Double, p2: Double): Double = 1 - math.abs(p1 - p2)\n",
    "    def distance(p1: Double, p2: Double): Double = math.abs(p1 - p2)\n",
    "\n",
    "    val closestPhoneme = currentCategories\n",
    "        .argMax(inverseDistance(_, rawInput))\n",
    "        .filter(distance(_, rawInput) < threshold)\n",
    "\n",
    "    if(currentCategories.isEmpty || closestPhoneme.isEmpty) {\n",
    "        // New category\n",
    "        currentCategories + rawInput\n",
    "    } else {\n",
    "        // Updated category, if multiple are equally close chose at random\n",
    "        val oldCategory = closestPhoneme.random.get\n",
    "        val newCategory = (oldCategory + rawInput) / 2\n",
    "        currentCategories - oldCategory + newCategory\n",
    "    }\n",
    "}"
   ]
  },
  {
   "cell_type": "markdown",
   "id": "489562c4-310d-4f73-8101-4291cac8fb4d",
   "metadata": {},
   "source": [
    "You can use this implementation by itself and consequetively apply it to add new raw inputs to the categorization. The initial phoneme categorization is emtpy."
   ]
  },
  {
   "cell_type": "code",
   "execution_count": 4,
   "id": "7bd3ac2a-b712-4980-9b30-b11d27438aa5",
   "metadata": {},
   "outputs": [
    {
     "data": {
      "text/plain": [
       "\u001b[36mout1\u001b[39m: \u001b[32mSet\u001b[39m[\u001b[32mDouble\u001b[39m] = \u001b[33mSet\u001b[39m(\u001b[32m0.3\u001b[39m)\n",
       "\u001b[36mout2\u001b[39m: \u001b[32mSet\u001b[39m[\u001b[32mDouble\u001b[39m] = \u001b[33mSet\u001b[39m(\u001b[32m0.275\u001b[39m)\n",
       "\u001b[36mout3\u001b[39m: \u001b[32mSet\u001b[39m[\u001b[32mDouble\u001b[39m] = \u001b[33mSet\u001b[39m(\u001b[32m0.275\u001b[39m, \u001b[32m0.5\u001b[39m)\n",
       "\u001b[36mout4\u001b[39m: \u001b[32mSet\u001b[39m[\u001b[32mDouble\u001b[39m] = \u001b[33mSet\u001b[39m(\u001b[32m0.275\u001b[39m, \u001b[32m0.495\u001b[39m)\n",
       "\u001b[36mout5\u001b[39m: \u001b[32mSet\u001b[39m[\u001b[32mDouble\u001b[39m] = \u001b[33mSet\u001b[39m(\u001b[32m0.275\u001b[39m, \u001b[32m0.47750000000000004\u001b[39m)"
      ]
     },
     "execution_count": 4,
     "metadata": {},
     "output_type": "execute_result"
    }
   ],
   "source": [
    "val out1 = phonemeCategorizationUnw(0.3, 0.05, Set())\n",
    "val out2 = phonemeCategorizationUnw(0.25, 0.05, out1)\n",
    "val out3 = phonemeCategorizationUnw(0.5, 0.05, out2)\n",
    "val out4 = phonemeCategorizationUnw(0.49, 0.05, out3)\n",
    "val out5 = phonemeCategorizationUnw(0.46, 0.05, out4)"
   ]
  },
  {
   "cell_type": "markdown",
   "id": "99bfa73a-bcca-4c47-bb41-c7bcdbaa6d28",
   "metadata": {},
   "source": [
    "It'll be easier if we can automate this, instead of typing by hand. The function below computes the phoneme categorization for a list of inputs, processed in sequence."
   ]
  },
  {
   "cell_type": "code",
   "execution_count": 5,
   "id": "7740c925-29d4-4baf-b4f7-1dd785005d05",
   "metadata": {},
   "outputs": [
    {
     "data": {
      "text/plain": [
       "defined \u001b[32mfunction\u001b[39m \u001b[36mmultiPhonemeCategorizationUnw\u001b[39m"
      ]
     },
     "execution_count": 5,
     "metadata": {},
     "output_type": "execute_result"
    }
   ],
   "source": [
    "def multiPhonemeCategorizationUnw(\n",
    "    rawInputs: List[Double],\n",
    "    threshold: Double,\n",
    "    currentCategories: Set[Double]\n",
    "): Set[Double] = {\n",
    "    require(rawInputs.forall(i => i >= 0 && i <= 1), \"not all rawInputs are between 0 and 1\")\n",
    "    require(currentCategories.forall(p => p >= 0 && p <= 1), \"not all currentCategories are between 0 and 1\")\n",
    "    require(threshold >= 0 && threshold <= 1, \"threshold is not between 0 and 1\")\n",
    "    \n",
    "    if(rawInputs.size == 0) currentCategories\n",
    "    else multiPhonemeCategorizationUnw(\n",
    "        rawInputs.tail,\n",
    "        threshold,\n",
    "        phonemeCategorizationUnw(rawInputs.head, threshold, currentCategories)\n",
    "    )\n",
    "}"
   ]
  },
  {
   "cell_type": "markdown",
   "id": "42997f57-27c8-49e4-87ff-a09673e4c30a",
   "metadata": {},
   "source": [
    "Then the previous four instructions can be ran in one statement. The output below should be the same as the output for ```cat4``` above."
   ]
  },
  {
   "cell_type": "code",
   "execution_count": 6,
   "id": "470f8899-506c-415a-a4d1-96624dd4e0a4",
   "metadata": {},
   "outputs": [
    {
     "data": {
      "text/plain": [
       "\u001b[36mres5\u001b[39m: \u001b[32mSet\u001b[39m[\u001b[32mDouble\u001b[39m] = \u001b[33mSet\u001b[39m(\u001b[32m0.275\u001b[39m, \u001b[32m0.495\u001b[39m)"
      ]
     },
     "execution_count": 6,
     "metadata": {},
     "output_type": "execute_result"
    }
   ],
   "source": [
    "multiPhonemeCategorizationUnw(\n",
    "    List(0.3, 0.25, 0.5, 0.49),\n",
    "    threshold = 0.05,\n",
    "    Set()\n",
    ")"
   ]
  },
  {
   "cell_type": "markdown",
   "id": "d83d045e-e34d-458e-9fc9-57f026becb03",
   "metadata": {},
   "source": [
    "## The weighted model\n",
    "\n",
    "As a followup to the unweighted model, the group proposed a weighted model where later observed inputs have less impact on the established categories. One possible way to formalize this is to keep all the exemplars for each categorization and compute the weighted average of all exemplars, including the new input. This way, the old inputs are weighed equally, instead of their average only counting for half. The more exemplars, the 'stronger' the weight. Another alternative formalization would be to not keep the exemplars, but to have a decreasing weight with which each new input is weighted before averaged with the category.\n",
    "\n",
    "<span style=\"font-variant: small-caps;\">D'Souza-Enge-Govaart-Slocombe-model (weighted average)</span> model\n",
    "\n",
    "**Input:** A raw speech input $a \\in \\mathbb{R}$, where $0\\leq a\\leq 1$. A set of current phoneme categories $P=\\{p_1, p_2,\\dots, p_n\\}$, where each $p_i\\in\\mathbb{R}$ and $0\\leq p_i\\leq 1$. A set of exemplars $E=\\{a_1,\\dots,a_m\\}$. A partitioning of exemplars $\\mathcal{P}=P_1,\\dots,P_m$ (i.e., $E=\\bigcup_{p\\in\\mathcal{P}}p$ and $\\forall_{p,q\\in\\mathcal{P}}p\\cap q=\\varnothing$), where each category is mapped onto exactly one unique partition or the empty set by the bijective function $m:P\\rightarrow E\\cup\\varnothing$. A membership threshold $t\\in \\mathbb{R}$, where $0\\leq t\\leq 1$.\n",
    "\n",
    "**Output:** A set of updated phoneme categories $P'$, where $P'=P \\cup \\{a\\}$ if all current phoneme categories differ more than $t$ from $a$, i.e., if $\\forall_{p\\in P}~|p-a|>t$, or else $P'=P\\setminus p \\cup \\{\\frac{m(p) + a}{|m(p)|+1}\\}$, where $|p-a|<t$ and $|p-a|$ is minimal.\n",
    "\n",
    "Again, first we provide the single input function, but with one deviation from the formalization, namely, we'll also output the exemplars. This is so we can chain call the function like before to process multiple inputs. We'll create a simple data structure for this purpose and later it will prove useful for analysis. In fact, below we'll provide an updated function for the unweighted model that does the same."
   ]
  },
  {
   "cell_type": "code",
   "execution_count": 7,
   "id": "926e6f93-b417-4700-a273-9cd9ce586f5d",
   "metadata": {},
   "outputs": [
    {
     "data": {
      "text/plain": [
       "defined \u001b[32mclass\u001b[39m \u001b[36mCategoriesAndExemplars\u001b[39m\n",
       "defined \u001b[32mfunction\u001b[39m \u001b[36mphonemeCategorizationWe\u001b[39m"
      ]
     },
     "execution_count": 7,
     "metadata": {},
     "output_type": "execute_result"
    }
   ],
   "source": [
    "case class CategoriesAndExemplars(\n",
    "    categories: Set[Double],\n",
    "    exemplars: Map[Double, List[Double]]\n",
    ")\n",
    "\n",
    "def phonemeCategorizationWe(\n",
    "    rawInput: Double,\n",
    "    threshold: Double,\n",
    "    currentCategories: Set[Double],\n",
    "    exemplars: Map[Double, List[Double]]\n",
    "): CategoriesAndExemplars = {\n",
    "    require(rawInput >= 0 && rawInput <= 1, \"rawInput is not between 0 and 1\")\n",
    "    require(currentCategories.forall(p => p >= 0 && p <= 1), \"not all currentCategories are between 0 and 1\")\n",
    "    require(threshold >= 0 && threshold <= 1, \"threshold is not between 0 and 1\")\n",
    "    \n",
    "    def inverseDistance(p1: Double, p2: Double): Double = 1 - math.abs(p1 - p2)\n",
    "    def distance(p1: Double, p2: Double): Double = math.abs(p1 - p2)\n",
    "    \n",
    "    val closestPhoneme = currentCategories\n",
    "        .argMax(cp => inverseDistance(cp, rawInput))\n",
    "        .filter(cp => distance(cp, rawInput) < threshold)\n",
    "    \n",
    "    if(closestPhoneme.isEmpty || closestPhoneme.isEmpty) {\n",
    "        // New category\n",
    "        CategoriesAndExemplars(\n",
    "            currentCategories + rawInput,\n",
    "            exemplars + (rawInput -> List(rawInput))\n",
    "        )\n",
    "    } else {\n",
    "        // Updated category\n",
    "        // if multiple are equally close chose at random\n",
    "        val oldCategory = closestPhoneme.random.get\n",
    "        val oldExemplars = exemplars(oldCategory)\n",
    "    \n",
    "        val newCategory = (oldExemplars.sum + rawInput) / (oldExemplars.size + 1)\n",
    "        val newExemplars = oldExemplars :+ rawInput\n",
    "        \n",
    "        val newCategories = currentCategories - oldCategory + newCategory\n",
    "        val newExemplarsForAllCategories = exemplars - oldCategory + (newCategory -> newExemplars)\n",
    "        \n",
    "        CategoriesAndExemplars(newCategories, newExemplarsForAllCategories)\n",
    "    }\n",
    "}"
   ]
  },
  {
   "cell_type": "markdown",
   "id": "03cf82b7-4ab9-4572-b5d3-f40b04a0697f",
   "metadata": {},
   "source": [
    "To use this function, we again need to specify each step manually and additionally we need to grab the current categories and examplars from the previous output. You may notice that the output generated by this function is different than the one for unweighted phoneme categorization, implying that the two theories are not equivalent. Whether or not they differ *meaningfully* will require further analysis."
   ]
  },
  {
   "cell_type": "code",
   "execution_count": 8,
   "id": "72076f5e-4fac-4735-8fbc-2a9795fecf71",
   "metadata": {},
   "outputs": [
    {
     "data": {
      "text/plain": [
       "\u001b[36moutA\u001b[39m: \u001b[32mCategoriesAndExemplars\u001b[39m = \u001b[33mCategoriesAndExemplars\u001b[39m(\n",
       "  categories = \u001b[33mSet\u001b[39m(\u001b[32m0.3\u001b[39m),\n",
       "  exemplars = \u001b[33mMap\u001b[39m(\u001b[32m0.3\u001b[39m -> \u001b[33mList\u001b[39m(\u001b[32m0.3\u001b[39m))\n",
       ")\n",
       "\u001b[36moutB\u001b[39m: \u001b[32mCategoriesAndExemplars\u001b[39m = \u001b[33mCategoriesAndExemplars\u001b[39m(\n",
       "  categories = \u001b[33mSet\u001b[39m(\u001b[32m0.275\u001b[39m),\n",
       "  exemplars = \u001b[33mMap\u001b[39m(\u001b[32m0.275\u001b[39m -> \u001b[33mList\u001b[39m(\u001b[32m0.3\u001b[39m, \u001b[32m0.25\u001b[39m))\n",
       ")\n",
       "\u001b[36moutC\u001b[39m: \u001b[32mCategoriesAndExemplars\u001b[39m = \u001b[33mCategoriesAndExemplars\u001b[39m(\n",
       "  categories = \u001b[33mSet\u001b[39m(\u001b[32m0.275\u001b[39m, \u001b[32m0.5\u001b[39m),\n",
       "  exemplars = \u001b[33mMap\u001b[39m(\u001b[32m0.275\u001b[39m -> \u001b[33mList\u001b[39m(\u001b[32m0.3\u001b[39m, \u001b[32m0.25\u001b[39m), \u001b[32m0.5\u001b[39m -> \u001b[33mList\u001b[39m(\u001b[32m0.5\u001b[39m))\n",
       ")\n",
       "\u001b[36moutD\u001b[39m: \u001b[32mCategoriesAndExemplars\u001b[39m = \u001b[33mCategoriesAndExemplars\u001b[39m(\n",
       "  categories = \u001b[33mSet\u001b[39m(\u001b[32m0.275\u001b[39m, \u001b[32m0.495\u001b[39m),\n",
       "  exemplars = \u001b[33mMap\u001b[39m(\u001b[32m0.275\u001b[39m -> \u001b[33mList\u001b[39m(\u001b[32m0.3\u001b[39m, \u001b[32m0.25\u001b[39m), \u001b[32m0.495\u001b[39m -> \u001b[33mList\u001b[39m(\u001b[32m0.5\u001b[39m, \u001b[32m0.49\u001b[39m))\n",
       ")\n",
       "\u001b[36moutE\u001b[39m: \u001b[32mCategoriesAndExemplars\u001b[39m = \u001b[33mCategoriesAndExemplars\u001b[39m(\n",
       "  categories = \u001b[33mSet\u001b[39m(\u001b[32m0.275\u001b[39m, \u001b[32m0.48333333333333334\u001b[39m),\n",
       "  exemplars = \u001b[33mMap\u001b[39m(\n",
       "    \u001b[32m0.275\u001b[39m -> \u001b[33mList\u001b[39m(\u001b[32m0.3\u001b[39m, \u001b[32m0.25\u001b[39m),\n",
       "    \u001b[32m0.48333333333333334\u001b[39m -> \u001b[33mList\u001b[39m(\u001b[32m0.5\u001b[39m, \u001b[32m0.49\u001b[39m, \u001b[32m0.46\u001b[39m)\n",
       "  )\n",
       ")"
      ]
     },
     "execution_count": 8,
     "metadata": {},
     "output_type": "execute_result"
    }
   ],
   "source": [
    "val outA = phonemeCategorizationWe(0.3, 0.05, Set(), Map())\n",
    "val outB = phonemeCategorizationWe(0.25, 0.05, outA.categories, outA.exemplars)\n",
    "val outC = phonemeCategorizationWe(0.5, 0.05, outB.categories, outB.exemplars)\n",
    "val outD = phonemeCategorizationWe(0.49, 0.05, outC.categories, outC.exemplars)\n",
    "val outE = phonemeCategorizationWe(0.46, 0.05, outD.categories, outD.exemplars)"
   ]
  },
  {
   "cell_type": "markdown",
   "id": "6ac73593-00cd-49e5-a887-72048466837c",
   "metadata": {},
   "source": [
    "Again, we also implement a function to compute the categorization of multiple phonemes in sequence."
   ]
  },
  {
   "cell_type": "code",
   "execution_count": 9,
   "id": "9b076df5-f248-4a68-8c91-37332b1af1f2",
   "metadata": {},
   "outputs": [
    {
     "data": {
      "text/plain": [
       "defined \u001b[32mfunction\u001b[39m \u001b[36mmultiPhonemeCategorizationWe\u001b[39m"
      ]
     },
     "execution_count": 9,
     "metadata": {},
     "output_type": "execute_result"
    }
   ],
   "source": [
    "def multiPhonemeCategorizationWe(\n",
    "    rawInputs: List[Double],\n",
    "    threshold: Double,\n",
    "    currentCategories: Set[Double],\n",
    "    exemplars: Map[Double, List[Double]]\n",
    "): CategoriesAndExemplars = {\n",
    "    require(rawInputs.forall(i => i >= 0 && i <= 1), \"not all rawInputs are between 0 and 1\")\n",
    "    require(currentCategories.forall(p => p >= 0 && p <= 1), \"not all currentCategories are between 0 and 1\")\n",
    "    require(threshold >= 0 && threshold <= 1, \"threshold is not between 0 and 1\")\n",
    "    \n",
    "    if(rawInputs.size == 0) CategoriesAndExemplars(currentCategories, exemplars)\n",
    "    else {\n",
    "        val categorization = phonemeCategorizationWe(rawInputs.head, threshold, currentCategories, exemplars)\n",
    "        multiPhonemeCategorizationWe(\n",
    "            rawInputs.tail,\n",
    "            threshold,\n",
    "            categorization.categories,\n",
    "            categorization.exemplars\n",
    "        )\n",
    "    }\n",
    "}"
   ]
  },
  {
   "cell_type": "markdown",
   "id": "314640d8-2216-44bf-bec3-4081fc6d9c16",
   "metadata": {},
   "source": [
    "And again an example usage, with empty categorization as starting point."
   ]
  },
  {
   "cell_type": "code",
   "execution_count": 10,
   "id": "8e9296e7-841c-4833-8516-c6b9c7ffdf5b",
   "metadata": {},
   "outputs": [
    {
     "data": {
      "text/plain": [
       "\u001b[36mres9\u001b[39m: \u001b[32mCategoriesAndExemplars\u001b[39m = \u001b[33mCategoriesAndExemplars\u001b[39m(\n",
       "  categories = \u001b[33mSet\u001b[39m(\u001b[32m0.275\u001b[39m, \u001b[32m0.48333333333333334\u001b[39m),\n",
       "  exemplars = \u001b[33mMap\u001b[39m(\n",
       "    \u001b[32m0.275\u001b[39m -> \u001b[33mList\u001b[39m(\u001b[32m0.3\u001b[39m, \u001b[32m0.25\u001b[39m),\n",
       "    \u001b[32m0.48333333333333334\u001b[39m -> \u001b[33mList\u001b[39m(\u001b[32m0.5\u001b[39m, \u001b[32m0.49\u001b[39m, \u001b[32m0.46\u001b[39m)\n",
       "  )\n",
       ")"
      ]
     },
     "execution_count": 10,
     "metadata": {},
     "output_type": "execute_result"
    }
   ],
   "source": [
    "multiPhonemeCategorizationWe(\n",
    "    List(0.3, 0.25, 0.5, 0.49, 0.46),\n",
    "    threshold = 0.05,\n",
    "    Set(),\n",
    "    Map()\n",
    ")"
   ]
  },
  {
   "cell_type": "markdown",
   "id": "1767b2f1-48c8-4bfb-a3a0-26c34a0153b5",
   "metadata": {},
   "source": [
    "## Updated implementation of unweighted categorization\n",
    "\n",
    "For ease of analysis, this updated implementation also returns the exemplars."
   ]
  },
  {
   "cell_type": "code",
   "execution_count": 11,
   "id": "ed26eab5-f11a-4275-9b6d-9e7d17cf09ab",
   "metadata": {},
   "outputs": [
    {
     "data": {
      "text/plain": [
       "defined \u001b[32mfunction\u001b[39m \u001b[36mphonemeCategorizationUnw\u001b[39m\n",
       "defined \u001b[32mfunction\u001b[39m \u001b[36mmultiPhonemeCategorizationUnw\u001b[39m"
      ]
     },
     "execution_count": 11,
     "metadata": {},
     "output_type": "execute_result"
    }
   ],
   "source": [
    "def phonemeCategorizationUnw(\n",
    "    rawInput: Double,\n",
    "    threshold: Double,\n",
    "    currentCategories: Set[Double],\n",
    "    exemplars: Map[Double, List[Double]]\n",
    "): CategoriesAndExemplars = {\n",
    "    require(rawInput >= 0 && rawInput <= 1, \"rawInput is not between 0 and 1\")\n",
    "    require(currentCategories.forall(p => p >= 0 && p <= 1), \"not all currentCategories are between 0 and 1\")\n",
    "    require(threshold >= 0 && threshold <= 1, \"threshold is not between 0 and 1\")\n",
    "    \n",
    "    def inverseDistance(p1: Double, p2: Double): Double = 1 - math.abs(p1 - p2)\n",
    "    def distance(p1: Double, p2: Double): Double = math.abs(p1 - p2)\n",
    "\n",
    "    val closestPhoneme = currentCategories\n",
    "        .argMax(inverseDistance(_, rawInput))\n",
    "        .filter(distance(_, rawInput) < threshold)\n",
    "\n",
    "    if(currentCategories.isEmpty || closestPhoneme.isEmpty) {\n",
    "        // New category\n",
    "        CategoriesAndExemplars(\n",
    "            currentCategories + rawInput,\n",
    "            exemplars + (rawInput -> List(rawInput))\n",
    "        )\n",
    "    } else {\n",
    "        // Updated category, if multiple are equally close chose at random\n",
    "        val oldCategory = closestPhoneme.random.get\n",
    "        val oldExemplars = exemplars(oldCategory)\n",
    "    \n",
    "        val newCategory = (oldCategory + rawInput) / 2\n",
    "        val newExemplars = oldExemplars :+ rawInput\n",
    "        \n",
    "        val newCategories = currentCategories - oldCategory + newCategory\n",
    "        val newExemplarsForAllCategories = exemplars - oldCategory + (newCategory -> newExemplars)\n",
    "        \n",
    "        CategoriesAndExemplars(newCategories, newExemplarsForAllCategories)\n",
    "    }\n",
    "}\n",
    "\n",
    "def multiPhonemeCategorizationUnw(\n",
    "    rawInputs: List[Double],\n",
    "    threshold: Double,\n",
    "    currentCategories: Set[Double],\n",
    "    exemplars: Map[Double, List[Double]]\n",
    "): CategoriesAndExemplars = {\n",
    "    require(rawInputs.forall(i => i >= 0 && i <= 1), \"not all rawInputs are between 0 and 1\")\n",
    "    require(currentCategories.forall(p => p >= 0 && p <= 1), \"not all currentCategories are between 0 and 1\")\n",
    "    require(threshold >= 0 && threshold <= 1, \"threshold is not between 0 and 1\")\n",
    "    \n",
    "    if(rawInputs.size == 0) CategoriesAndExemplars(currentCategories, exemplars)\n",
    "    else {\n",
    "        val categorization = phonemeCategorizationUnw(rawInputs.head, threshold, currentCategories, exemplars)\n",
    "        multiPhonemeCategorizationUnw(\n",
    "            rawInputs.tail,\n",
    "            threshold,\n",
    "            categorization.categories,\n",
    "            categorization.exemplars\n",
    "        )\n",
    "    }\n",
    "}"
   ]
  },
  {
   "cell_type": "markdown",
   "id": "6bde7bbb-7f8a-412e-a95d-6da1670b177a",
   "metadata": {},
   "source": [
    "## Single instance comparison\n",
    "\n",
    "Here, we take one hand-picked instance and compare the output of the two theories."
   ]
  },
  {
   "cell_type": "code",
   "execution_count": 12,
   "id": "2c9abe3b-656a-47fd-8f7d-8be010025da3",
   "metadata": {},
   "outputs": [
    {
     "data": {
      "text/plain": [
       "\u001b[36mselectedInputs\u001b[39m: \u001b[32mList\u001b[39m[\u001b[32mDouble\u001b[39m] = \u001b[33mList\u001b[39m(\u001b[32m0.4\u001b[39m, \u001b[32m0.36\u001b[39m, \u001b[32m0.8\u001b[39m, \u001b[32m0.71\u001b[39m, \u001b[32m0.63\u001b[39m, \u001b[32m0.5\u001b[39m)\n",
       "\u001b[36minitialCategorization\u001b[39m: \u001b[32mSet\u001b[39m[\u001b[32mDouble\u001b[39m] = \u001b[33mSet\u001b[39m(\u001b[32m0.5\u001b[39m)\n",
       "\u001b[36memptyExemplars\u001b[39m: \u001b[32mMap\u001b[39m[\u001b[32mDouble\u001b[39m, \u001b[32mList\u001b[39m[\u001b[32mNothing\u001b[39m]] = \u001b[33mMap\u001b[39m(\u001b[32m0.5\u001b[39m -> \u001b[33mList\u001b[39m())\n",
       "\u001b[36moutputUnw\u001b[39m: \u001b[32mCategoriesAndExemplars\u001b[39m = \u001b[33mCategoriesAndExemplars\u001b[39m(\n",
       "  categories = \u001b[33mSet\u001b[39m(\u001b[32m0.755\u001b[39m, \u001b[32m0.63\u001b[39m, \u001b[32m0.4525\u001b[39m),\n",
       "  exemplars = \u001b[33mMap\u001b[39m(\n",
       "    \u001b[32m0.755\u001b[39m -> \u001b[33mList\u001b[39m(\u001b[32m0.8\u001b[39m, \u001b[32m0.71\u001b[39m),\n",
       "    \u001b[32m0.63\u001b[39m -> \u001b[33mList\u001b[39m(\u001b[32m0.63\u001b[39m),\n",
       "    \u001b[32m0.4525\u001b[39m -> \u001b[33mList\u001b[39m(\u001b[32m0.4\u001b[39m, \u001b[32m0.36\u001b[39m, \u001b[32m0.5\u001b[39m)\n",
       "  )\n",
       ")\n",
       "\u001b[36moutputWe\u001b[39m: \u001b[32mCategoriesAndExemplars\u001b[39m = \u001b[33mCategoriesAndExemplars\u001b[39m(\n",
       "  categories = \u001b[33mSet\u001b[39m(\u001b[32m0.38\u001b[39m, \u001b[32m0.755\u001b[39m, \u001b[32m0.63\u001b[39m, \u001b[32m0.5\u001b[39m),\n",
       "  exemplars = \u001b[33mMap\u001b[39m(\n",
       "    \u001b[32m0.38\u001b[39m -> \u001b[33mList\u001b[39m(\u001b[32m0.4\u001b[39m, \u001b[32m0.36\u001b[39m),\n",
       "    \u001b[32m0.755\u001b[39m -> \u001b[33mList\u001b[39m(\u001b[32m0.8\u001b[39m, \u001b[32m0.71\u001b[39m),\n",
       "    \u001b[32m0.63\u001b[39m -> \u001b[33mList\u001b[39m(\u001b[32m0.63\u001b[39m),\n",
       "    \u001b[32m0.5\u001b[39m -> \u001b[33mList\u001b[39m(\u001b[32m0.5\u001b[39m)\n",
       "  )\n",
       ")"
      ]
     },
     "execution_count": 12,
     "metadata": {},
     "output_type": "execute_result"
    }
   ],
   "source": [
    "val selectedInputs = List(0.4, 0.36, 0.8, 0.71, 0.63, 0.5)\n",
    "val initialCategorization = Set(0.5) // or Set() or Set(0.25, 0.75) ...\n",
    "val emptyExemplars = initialCategorization.map(_ -> List()).toMap\n",
    "\n",
    "val outputUnw = multiPhonemeCategorizationUnw(\n",
    "    selectedInputs,\n",
    "    threshold = 0.1,\n",
    "    initialCategorization,\n",
    "    exemplars = emptyExemplars\n",
    ")\n",
    "val outputWe = multiPhonemeCategorizationWe(\n",
    "    selectedInputs,\n",
    "    threshold = 0.1,\n",
    "    initialCategorization,\n",
    "    exemplars = emptyExemplars\n",
    ")"
   ]
  },
  {
   "cell_type": "markdown",
   "id": "7bd92fd1-b40b-4961-89c7-0dd9bbd174b0",
   "metadata": {},
   "source": [
    "# Random instances 1\n",
    "\n",
    "Here we generate a list of $N$ raw inputs to see how the theories respond to increasing number of observed phonemes. Running this code multiple times will result in different outputs. Sometimes the categories for both theories are similar, other times they are different. Change the ```numberOfPhonemes``` to manipulate this parameter, and observe the resulting categorizations."
   ]
  },
  {
   "cell_type": "code",
   "execution_count": 33,
   "id": "d626470b-8620-4d0e-981f-b038153092f5",
   "metadata": {
    "tags": []
   },
   "outputs": [
    {
     "data": {
      "application/vnd.plotly.v1+json": {
       "config": {},
       "data": [
        {
         "marker": {
          "color": "grey"
         },
         "mode": "markers",
         "name": "Exemplars",
         "type": "scatter",
         "x": [
          0.24211639230089488,
          0.2731138279003448,
          0.38526801221352425,
          0.9626305787843844,
          0.8483649394604175,
          0.9320682138055267,
          0.601730296644574,
          0.023508837504700453,
          0.13226396313097144,
          0.6087758709991105,
          0.3785746170271994,
          0.1357228936608631,
          0.6828862699137918,
          0.5982429123307533,
          0.4260170749404516,
          0.1120285609113173,
          0.9578218549992594,
          0.11999147650771524,
          0.5376513750189473,
          0.011399337782369234
         ],
         "y": [
          0,
          0,
          0,
          0,
          0,
          0,
          0,
          0,
          0,
          0,
          0,
          0,
          0,
          0,
          0,
          0,
          0,
          0,
          0,
          0
         ]
        },
        {
         "marker": {
          "color": "red",
          "symbol": "cross"
         },
         "mode": "markers",
         "name": "UnwCategories",
         "type": "scatter",
         "x": [
          0.9525856256471075,
          0.6211562945992851,
          0.12150123558066626,
          0.5188256875094737,
          0.4039691947804067,
          0.8483649394604175,
          0.017454087643534844,
          0.2576151101006198
         ],
         "y": [
          0,
          0,
          0,
          0,
          0,
          0,
          0,
          0
         ]
        },
        {
         "marker": {
          "color": "blue",
          "symbol": "cross"
         },
         "mode": "markers",
         "name": "WeCategories",
         "type": "scatter",
         "x": [
          0.8483649394604175,
          0.6229088374720573,
          0.12500172355271677,
          0.3966199013937251,
          0.9508402158630568,
          0.5376513750189473,
          0.017454087643534844,
          0.2576151101006198
         ],
         "y": [
          0,
          0,
          0,
          0,
          0,
          0,
          0,
          0
         ]
        }
       ],
       "layout": {
        "autosize": true,
        "xaxis": {
         "autorange": true,
         "range": [
          -0.049177412790511195,
          1.0232073293572648
         ],
         "type": "linear"
        },
        "yaxis": {
         "autorange": true,
         "range": [
          -1,
          1
         ],
         "type": "linear"
        }
       }
      },
      "image/png": "[encoded data removed]",
      "text/html": [
       "<div class=\"chart\" id=\"plot-58b61def-1d26-4827-b62f-a1b28f85c664\"></div>\n",
       "<script>require(['plotly'], function(Plotly) {\n",
       "  (function () {\n",
       "  var data0 = {\"x\":[0.24211639230089488,0.2731138279003448,0.38526801221352425,0.9626305787843844,0.8483649394604175,0.9320682138055267,0.601730296644574,0.023508837504700453,0.13226396313097144,0.6087758709991105,0.3785746170271994,0.1357228936608631,0.6828862699137918,0.5982429123307533,0.4260170749404516,0.1120285609113173,0.9578218549992594,0.11999147650771524,0.5376513750189473,0.011399337782369234],\"name\":\"Exemplars\",\"mode\":\"markers\",\"type\":\"scatter\",\"y\":[0.0,0.0,0.0,0.0,0.0,0.0,0.0,0.0,0.0,0.0,0.0,0.0,0.0,0.0,0.0,0.0,0.0,0.0,0.0,0.0],\"marker\":{\"color\":\"grey\"}};\n",
       "  var data1 = {\"x\":[0.9525856256471075,0.6211562945992851,0.12150123558066626,0.5188256875094737,0.4039691947804067,0.8483649394604175,0.017454087643534844,0.2576151101006198],\"name\":\"UnwCategories\",\"mode\":\"markers\",\"type\":\"scatter\",\"y\":[0.0,0.0,0.0,0.0,0.0,0.0,0.0,0.0],\"marker\":{\"color\":\"red\",\"symbol\":\"cross\"}};\n",
       "  var data2 = {\"x\":[0.8483649394604175,0.6229088374720573,0.12500172355271677,0.3966199013937251,0.9508402158630568,0.5376513750189473,0.017454087643534844,0.2576151101006198],\"name\":\"WeCategories\",\"mode\":\"markers\",\"type\":\"scatter\",\"y\":[0.0,0.0,0.0,0.0,0.0,0.0,0.0,0.0],\"marker\":{\"color\":\"blue\",\"symbol\":\"cross\"}};\n",
       "\n",
       "  var data = [data0, data1, data2];\n",
       "  var layout = {};\n",
       " var config = {};\n",
       "\n",
       "  Plotly.plot('plot-58b61def-1d26-4827-b62f-a1b28f85c664', data, layout, config);\n",
       "})();\n",
       "});\n",
       "      </script>\n",
       "           "
      ]
     },
     "metadata": {},
     "output_type": "display_data"
    },
    {
     "data": {
      "text/plain": [
       "\u001b[36mnumberOfPhonemes\u001b[39m: \u001b[32mInt\u001b[39m = \u001b[32m20\u001b[39m\n",
       "\u001b[36mphonemeInputs\u001b[39m: \u001b[32mList\u001b[39m[\u001b[32mDouble\u001b[39m] = \u001b[33mList\u001b[39m(\n",
       "  \u001b[32m0.24211639230089488\u001b[39m,\n",
       "  \u001b[32m0.2731138279003448\u001b[39m,\n",
       "  \u001b[32m0.38526801221352425\u001b[39m,\n",
       "  \u001b[32m0.9626305787843844\u001b[39m,\n",
       "  \u001b[32m0.8483649394604175\u001b[39m,\n",
       "  \u001b[32m0.9320682138055267\u001b[39m,\n",
       "  \u001b[32m0.601730296644574\u001b[39m,\n",
       "  \u001b[32m0.023508837504700453\u001b[39m,\n",
       "  \u001b[32m0.13226396313097144\u001b[39m,\n",
       "  \u001b[32m0.6087758709991105\u001b[39m,\n",
       "  \u001b[32m0.3785746170271994\u001b[39m,\n",
       "  \u001b[32m0.1357228936608631\u001b[39m,\n",
       "  \u001b[32m0.6828862699137918\u001b[39m,\n",
       "  \u001b[32m0.5982429123307533\u001b[39m,\n",
       "  \u001b[32m0.4260170749404516\u001b[39m,\n",
       "  \u001b[32m0.1120285609113173\u001b[39m,\n",
       "  \u001b[32m0.9578218549992594\u001b[39m,\n",
       "  \u001b[32m0.11999147650771524\u001b[39m,\n",
       "  \u001b[32m0.5376513750189473\u001b[39m,\n",
       "  \u001b[32m0.011399337782369234\u001b[39m\n",
       ")\n",
       "\u001b[36mthreshold\u001b[39m: \u001b[32mDouble\u001b[39m = \u001b[32m0.1\u001b[39m\n",
       "\u001b[36minitialCategorization\u001b[39m: \u001b[32mSet\u001b[39m[\u001b[32mDouble\u001b[39m] = \u001b[33mSet\u001b[39m(\u001b[32m0.5\u001b[39m)\n",
       "\u001b[36memptyExemplars\u001b[39m: \u001b[32mMap\u001b[39m[\u001b[32mDouble\u001b[39m, \u001b[32mList\u001b[39m[\u001b[32mNothing\u001b[39m]] = \u001b[33mMap\u001b[39m(\u001b[32m0.5\u001b[39m -> \u001b[33mList\u001b[39m())\n",
       "\u001b[36moutputUnw\u001b[39m: \u001b[32mCategoriesAndExemplars\u001b[39m = \u001b[33mCategoriesAndExemplars\u001b[39m(\n",
       "  categories = \u001b[33mHashSet\u001b[39m(\n",
       "    \u001b[32m0.9525856256471075\u001b[39m,\n",
       "    \u001b[32m0.6211562945992851\u001b[39m,\n",
       "    \u001b[32m0.12150123558066626\u001b[39m,\n",
       "    \u001b[32m0.5188256875094737\u001b[39m,\n",
       "    \u001b[32m0.4039691947804067\u001b[39m,\n",
       "    \u001b[32m0.8483649394604175\u001b[39m,\n",
       "    \u001b[32m0.017454087643534844\u001b[39m,\n",
       "    \u001b[32m0.2576151101006198\u001b[39m\n",
       "  ),\n",
       "  exemplars = \u001b[33mHashMap\u001b[39m(\n",
       "    \u001b[32m0.9525856256471075\u001b[39m -> \u001b[33mList\u001b[39m(\n",
       "      \u001b[32m0.9626305787843844\u001b[39m,\n",
       "      \u001b[32m0.9320682138055267\u001b[39m,\n",
       "      \u001b[32m0.9578218549992594\u001b[39m\n",
       "    ),\n",
       "    \u001b[32m0.6211562945992851\u001b[39m -> \u001b[33mList\u001b[39m(\n",
       "      \u001b[32m0.601730296644574\u001b[39m,\n",
       "      \u001b[32m0.6087758709991105\u001b[39m,\n",
       "      \u001b[32m0.6828862699137918\u001b[39m,\n",
       "      \u001b[32m0.5982429123307533\u001b[39m\n",
       "    ),\n",
       "    \u001b[32m0.12150123558066626\u001b[39m -> \u001b[33mList\u001b[39m(\n",
       "      \u001b[32m0.13226396313097144\u001b[39m,\n",
       "      \u001b[32m0.1357228936608631\u001b[39m,\n",
       "      \u001b[32m0.1120285609113173\u001b[39m,\n",
       "      \u001b[32m0.11999147650771524\u001b[39m\n",
       "    ),\n",
       "    \u001b[32m0.5188256875094737\u001b[39m -> \u001b[33mList\u001b[39m(\u001b[32m0.5376513750189473\u001b[39m),\n",
       "    \u001b[32m0.4039691947804067\u001b[39m -> \u001b[33mList\u001b[39m(\n",
       "      \u001b[32m0.38526801221352425\u001b[39m,\n",
       "      \u001b[32m0.3785746170271994\u001b[39m,\n",
       "      \u001b[32m0.4260170749404516\u001b[39m\n",
       "    ),\n",
       "    \u001b[32m0.8483649394604175\u001b[39m -> \u001b[33mList\u001b[39m(\u001b[32m0.8483649394604175\u001b[39m),\n",
       "    \u001b[32m0.017454087643534844\u001b[39m -> \u001b[33mList\u001b[39m(\u001b[32m0.023508837504700453\u001b[39m, \u001b[32m0.011399337782369234\u001b[39m),\n",
       "    \u001b[32m0.2576151101006198\u001b[39m -> \u001b[33mList\u001b[39m(\u001b[32m0.24211639230089488\u001b[39m, \u001b[32m0.2731138279003448\u001b[39m)\n",
       "  )\n",
       ")\n",
       "\u001b[36moutputWe\u001b[39m: \u001b[32mCategoriesAndExemplars\u001b[39m = \u001b[33mCategoriesAndExemplars\u001b[39m(\n",
       "  categories = \u001b[33mHashSet\u001b[39m(\n",
       "    \u001b[32m0.8483649394604175\u001b[39m,\n",
       "    \u001b[32m0.6229088374720573\u001b[39m,\n",
       "    \u001b[32m0.12500172355271677\u001b[39m,\n",
       "    \u001b[32m0.3966199013937251\u001b[39m,\n",
       "    \u001b[32m0.9508402158630568\u001b[39m,\n",
       "    \u001b[32m0.5376513750189473\u001b[39m,\n",
       "    \u001b[32m0.017454087643534844\u001b[39m,\n",
       "    \u001b[32m0.2576151101006198\u001b[39m\n",
       "  ),\n",
       "  exemplars = \u001b[33mHashMap\u001b[39m(\n",
       "    \u001b[32m0.8483649394604175\u001b[39m -> \u001b[33mList\u001b[39m(\u001b[32m0.8483649394604175\u001b[39m),\n",
       "    \u001b[32m0.6229088374720573\u001b[39m -> \u001b[33mList\u001b[39m(\n",
       "      \u001b[32m0.601730296644574\u001b[39m,\n",
       "      \u001b[32m0.6087758709991105\u001b[39m,\n",
       "      \u001b[32m0.6828862699137918\u001b[39m,\n",
       "      \u001b[32m0.5982429123307533\u001b[39m\n",
       "    ),\n",
       "    \u001b[32m0.12500172355271677\u001b[39m -> \u001b[33mList\u001b[39m(\n",
       "      \u001b[32m0.13226396313097144\u001b[39m,\n",
       "      \u001b[32m0.1357228936608631\u001b[39m,\n",
       "      \u001b[32m0.1120285609113173\u001b[39m,\n",
       "      \u001b[32m0.11999147650771524\u001b[39m\n",
       "    ),\n",
       "    \u001b[32m0.3966199013937251\u001b[39m -> \u001b[33mList\u001b[39m(\n",
       "      \u001b[32m0.38526801221352425\u001b[39m,\n",
       "      \u001b[32m0.3785746170271994\u001b[39m,\n",
       "      \u001b[32m0.4260170749404516\u001b[39m\n",
       "    ),\n",
       "    \u001b[32m0.9508402158630568\u001b[39m -> \u001b[33mList\u001b[39m(\n",
       "      \u001b[32m0.9626305787843844\u001b[39m,\n",
       "      \u001b[32m0.9320682138055267\u001b[39m,\n",
       "      \u001b[32m0.9578218549992594\u001b[39m\n",
       "    ),\n",
       "    \u001b[32m0.5376513750189473\u001b[39m -> \u001b[33mList\u001b[39m(\u001b[32m0.5376513750189473\u001b[39m),\n",
       "    \u001b[32m0.017454087643534844\u001b[39m -> \u001b[33mList\u001b[39m(\u001b[32m0.023508837504700453\u001b[39m, \u001b[32m0.011399337782369234\u001b[39m),\n",
       "    \u001b[32m0.2576151101006198\u001b[39m -> \u001b[33mList\u001b[39m(\u001b[32m0.24211639230089488\u001b[39m, \u001b[32m0.2731138279003448\u001b[39m)\n",
       "  )\n",
       ")\n",
       "\u001b[36mdata\u001b[39m: \u001b[32mSeq\u001b[39m[\u001b[32mScatter\u001b[39m] = \u001b[33mList\u001b[39m(\n",
       "  \u001b[33mScatter\u001b[39m(\n",
       "    x = \u001b[33mSome\u001b[39m(\n",
       "      value = \u001b[33mDoubles\u001b[39m(\n",
       "        seq = \u001b[33mList\u001b[39m(\n",
       "          \u001b[32m0.24211639230089488\u001b[39m,\n",
       "          \u001b[32m0.2731138279003448\u001b[39m,\n",
       "          \u001b[32m0.38526801221352425\u001b[39m,\n",
       "          \u001b[32m0.9626305787843844\u001b[39m,\n",
       "          \u001b[32m0.8483649394604175\u001b[39m,\n",
       "          \u001b[32m0.9320682138055267\u001b[39m,\n",
       "          \u001b[32m0.601730296644574\u001b[39m,\n",
       "          \u001b[32m0.023508837504700453\u001b[39m,\n",
       "          \u001b[32m0.13226396313097144\u001b[39m,\n",
       "          \u001b[32m0.6087758709991105\u001b[39m,\n",
       "          \u001b[32m0.3785746170271994\u001b[39m,\n",
       "          \u001b[32m0.1357228936608631\u001b[39m,\n",
       "          \u001b[32m0.6828862699137918\u001b[39m,\n",
       "          \u001b[32m0.5982429123307533\u001b[39m,\n",
       "          \u001b[32m0.4260170749404516\u001b[39m,\n",
       "          \u001b[32m0.1120285609113173\u001b[39m,\n",
       "          \u001b[32m0.9578218549992594\u001b[39m,\n",
       "          \u001b[32m0.11999147650771524\u001b[39m,\n",
       "          \u001b[32m0.5376513750189473\u001b[39m,\n",
       "          \u001b[32m0.011399337782369234\u001b[39m\n",
       "        )\n",
       "      )\n",
       "    ),\n",
       "    y = \u001b[33mSome\u001b[39m(\n",
       "      value = \u001b[33mDoubles\u001b[39m(\n",
       "        seq = \u001b[33mList\u001b[39m(\n",
       "          \u001b[32m0.0\u001b[39m,\n",
       "          \u001b[32m0.0\u001b[39m,\n",
       "          \u001b[32m0.0\u001b[39m,\n",
       "          \u001b[32m0.0\u001b[39m,\n",
       "          \u001b[32m0.0\u001b[39m,\n",
       "          \u001b[32m0.0\u001b[39m,\n",
       "          \u001b[32m0.0\u001b[39m,\n",
       "          \u001b[32m0.0\u001b[39m,\n",
       "...\n",
       "\u001b[36mres32_8\u001b[39m: \u001b[32mString\u001b[39m = \u001b[32m\"plot-58b61def-1d26-4827-b62f-a1b28f85c664\"\u001b[39m"
      ]
     },
     "execution_count": 33,
     "metadata": {},
     "output_type": "execute_result"
    }
   ],
   "source": [
    "val numberOfPhonemes = 20\n",
    "val phonemeInputs = List.tabulate(numberOfPhonemes)(_ => Random.nextDouble)\n",
    "val threshold = 0.1\n",
    "val initialCategorization = Set(0.5) // or Set() or Set(0.25, 0.75) ...\n",
    "val emptyExemplars = initialCategorization.map(_ -> List()).toMap\n",
    "\n",
    "val outputUnw: CategoriesAndExemplars = multiPhonemeCategorizationUnw(\n",
    "    phonemeInputs,\n",
    "    threshold,\n",
    "    initialCategorization,\n",
    "    exemplars = emptyExemplars\n",
    ")\n",
    "val outputWe: CategoriesAndExemplars = multiPhonemeCategorizationWe(\n",
    "    phonemeInputs,\n",
    "    threshold,\n",
    "    initialCategorization,\n",
    "    exemplars = emptyExemplars\n",
    ")\n",
    "\n",
    "// The code below plots the data in a simple figure.\n",
    "val data = Seq(\n",
    "    Scatter(\n",
    "        phonemeInputs,\n",
    "        phonemeInputs.map(_ => 0), // hack to plot on a 1D line\n",
    "        mode = ScatterMode(ScatterMode.Markers),\n",
    "        marker = Marker().withColor(Color.StringColor(\"grey\"))\n",
    "    ).withName(\"Exemplars\"),\n",
    "    Scatter(\n",
    "        outputUnw.categories.toList,\n",
    "        outputUnw.categories.toList.map(_ => 0), // hack to plot on a 1D line\n",
    "        mode = ScatterMode(ScatterMode.Markers),\n",
    "        marker = Marker(symbol = Symbol.Cross()).withColor(Color.StringColor(\"red\"))\n",
    "    ).withName(\"UnwCategories\"),\n",
    "    Scatter(\n",
    "        outputWe.categories.toList,\n",
    "        outputWe.categories.toList.map(_ => 0), // hack to plot on a second 1D line\n",
    "        mode = ScatterMode(ScatterMode.Markers),\n",
    "        marker = Marker(symbol = Symbol.Cross()).withColor(Color.StringColor(\"blue\"))\n",
    "    ).withName(\"WeCategories\")\n",
    ")\n",
    "\n",
    "plot(data)"
   ]
  },
  {
   "cell_type": "markdown",
   "id": "21613707-b89a-4c6b-8368-5166b033cc02",
   "metadata": {},
   "source": [
    "## Random instances 2\n",
    "\n",
    "Here, we generate random input instances for both problems to compare both. Each time you run the code cell below you generate $N$ raw inputs. The order of that sequence of inputs is randomized to generate two inputs where only the order is different. This is just an example use care to see if there is a qualitative difference between the two theories w.r.t. sensitivity to order effects."
   ]
  },
  {
   "cell_type": "code",
   "execution_count": 36,
   "id": "2c7658fe-dc42-46fd-a470-f833871a186e",
   "metadata": {},
   "outputs": [
    {
     "data": {
      "application/vnd.plotly.v1+json": {
       "config": {},
       "data": [
        {
         "marker": {
          "color": "grey"
         },
         "mode": "markers",
         "name": "Exemplars",
         "type": "scatter",
         "x": [
          0.6369919065871824,
          0.8620796120302979,
          0.8004712776131678,
          0.7684689842797472,
          0.5801709007050992,
          0.8814663053453828,
          0.7983344460478886,
          0.9254042370225231,
          0.48176240059355824,
          0.05302102811410647,
          0.6728265869148239,
          0.9082373718629937,
          0.17349118757740145,
          0.9947948071323405,
          0.003313739929634796,
          0.14559323348713815,
          0.3152029416235318,
          0.7572600490638752,
          0.2465695667673815,
          0.19142480968817843
         ],
         "y": [
          0,
          0,
          0,
          0,
          0,
          0,
          0,
          0,
          0,
          0,
          0,
          0,
          0,
          0,
          0,
          0,
          0,
          0,
          0,
          0
         ]
        },
        {
         "marker": {
          "color": "red",
          "symbol": "cross"
         },
         "mode": "markers",
         "name": "UnwCategoriesA",
         "type": "scatter",
         "x": [
          0.17548351011022412,
          0.6407039952804823,
          0.28088625419545665,
          0.9558078057875494,
          0.028167384021870634,
          0.4908812002967791,
          0.7883809510309251
         ],
         "y": [
          0,
          0,
          0,
          0,
          0,
          0,
          0
         ]
        },
        {
         "marker": {
          "color": "blue",
          "symbol": "cross"
         },
         "mode": "markers",
         "name": "WeCategoriesA",
         "type": "scatter",
         "x": [
          0.28088625419545665,
          0.9428121386726191,
          0.8113467790633933,
          0.028167384021870634,
          0.6299964647357018,
          0.17016974358423934,
          0.48176240059355824
         ],
         "y": [
          0,
          0,
          0,
          0,
          0,
          0,
          0
         ]
        },
        {
         "marker": {
          "color": "rgb(128, 0, 0)",
          "symbol": "cross"
         },
         "mode": "markers",
         "name": "UnwCategoriesB",
         "type": "scatter",
         "x": [
          0.898791991014636,
          0.9947948071323405,
          0.7602888721659475,
          0.028167384021870634,
          0.17520829662337384,
          0.510923925473054
         ],
         "y": [
          0.1,
          0.1,
          0.1,
          0.1,
          0.1,
          0.1
         ]
        },
        {
         "marker": {
          "color": "rgb(0, 0, 128)",
          "symbol": "cross"
         },
         "mode": "markers",
         "name": "WeCategoriesB",
         "type": "scatter",
         "x": [
          0.9947948071323405,
          0.8755317607748732,
          0.774687826463837,
          0.48176240059355824,
          0.2144563478287263,
          0.028167384021870634,
          0.6299964647357018
         ],
         "y": [
          0.1,
          0.1,
          0.1,
          0.1,
          0.1,
          0.1,
          0.1
         ]
        }
       ],
       "layout": {
        "autosize": true,
        "xaxis": {
         "autorange": true,
         "range": [
          -0.05994098690970695,
          1.0580495339716822
         ],
         "type": "linear"
        },
        "yaxis": {
         "range": [
          -0.5,
          0.5
         ],
         "type": "linear"
        }
       }
      },
      "image/png": "[encoded data removed]",
      "text/html": [
       "<div class=\"chart\" id=\"plot-75f0c0d9-a903-456e-aa34-76e57a7f4d5e\"></div>\n",
       "<script>require(['plotly'], function(Plotly) {\n",
       "  (function () {\n",
       "  var data0 = {\"x\":[0.6369919065871824,0.8620796120302979,0.8004712776131678,0.7684689842797472,0.5801709007050992,0.8814663053453828,0.7983344460478886,0.9254042370225231,0.48176240059355824,0.05302102811410647,0.6728265869148239,0.9082373718629937,0.17349118757740145,0.9947948071323405,0.003313739929634796,0.14559323348713815,0.3152029416235318,0.7572600490638752,0.2465695667673815,0.19142480968817843],\"name\":\"Exemplars\",\"mode\":\"markers\",\"type\":\"scatter\",\"y\":[0.0,0.0,0.0,0.0,0.0,0.0,0.0,0.0,0.0,0.0,0.0,0.0,0.0,0.0,0.0,0.0,0.0,0.0,0.0,0.0],\"marker\":{\"color\":\"grey\"}};\n",
       "  var data1 = {\"x\":[0.17548351011022412,0.6407039952804823,0.28088625419545665,0.9558078057875494,0.028167384021870634,0.4908812002967791,0.7883809510309251],\"name\":\"UnwCategoriesA\",\"mode\":\"markers\",\"type\":\"scatter\",\"y\":[0.0,0.0,0.0,0.0,0.0,0.0,0.0],\"marker\":{\"color\":\"red\",\"symbol\":\"cross\"}};\n",
       "  var data2 = {\"x\":[0.28088625419545665,0.9428121386726191,0.8113467790633933,0.028167384021870634,0.6299964647357018,0.17016974358423934,0.48176240059355824],\"name\":\"WeCategoriesA\",\"mode\":\"markers\",\"type\":\"scatter\",\"y\":[0.0,0.0,0.0,0.0,0.0,0.0,0.0],\"marker\":{\"color\":\"blue\",\"symbol\":\"cross\"}};\n",
       "  var data3 = {\"x\":[0.898791991014636,0.9947948071323405,0.7602888721659475,0.028167384021870634,0.17520829662337384,0.510923925473054],\"name\":\"UnwCategoriesB\",\"mode\":\"markers\",\"type\":\"scatter\",\"y\":[0.1,0.1,0.1,0.1,0.1,0.1],\"marker\":{\"color\":\"rgb(128, 0, 0)\",\"symbol\":\"cross\"}};\n",
       "  var data4 = {\"x\":[0.9947948071323405,0.8755317607748732,0.774687826463837,0.48176240059355824,0.2144563478287263,0.028167384021870634,0.6299964647357018],\"name\":\"WeCategoriesB\",\"mode\":\"markers\",\"type\":\"scatter\",\"y\":[0.1,0.1,0.1,0.1,0.1,0.1,0.1],\"marker\":{\"color\":\"rgb(0, 0, 128)\",\"symbol\":\"cross\"}};\n",
       "\n",
       "  var data = [data0, data1, data2, data3, data4];\n",
       "  var layout = {\"yaxis\":{\"range\":[-0.5,0.5]}};\n",
       " var config = {};\n",
       "\n",
       "  Plotly.plot('plot-75f0c0d9-a903-456e-aa34-76e57a7f4d5e', data, layout, config);\n",
       "})();\n",
       "});\n",
       "      </script>\n",
       "           "
      ]
     },
     "metadata": {},
     "output_type": "display_data"
    },
    {
     "data": {
      "text/plain": [
       "\u001b[36mnumberOfPhonemes\u001b[39m: \u001b[32mInt\u001b[39m = \u001b[32m20\u001b[39m\n",
       "\u001b[36mphonemeInputsA\u001b[39m: \u001b[32mList\u001b[39m[\u001b[32mDouble\u001b[39m] = \u001b[33mList\u001b[39m(\n",
       "  \u001b[32m0.6369919065871824\u001b[39m,\n",
       "  \u001b[32m0.8620796120302979\u001b[39m,\n",
       "  \u001b[32m0.8004712776131678\u001b[39m,\n",
       "  \u001b[32m0.7684689842797472\u001b[39m,\n",
       "  \u001b[32m0.5801709007050992\u001b[39m,\n",
       "  \u001b[32m0.8814663053453828\u001b[39m,\n",
       "  \u001b[32m0.7983344460478886\u001b[39m,\n",
       "  \u001b[32m0.9254042370225231\u001b[39m,\n",
       "  \u001b[32m0.48176240059355824\u001b[39m,\n",
       "  \u001b[32m0.05302102811410647\u001b[39m,\n",
       "  \u001b[32m0.6728265869148239\u001b[39m,\n",
       "  \u001b[32m0.9082373718629937\u001b[39m,\n",
       "  \u001b[32m0.17349118757740145\u001b[39m,\n",
       "  \u001b[32m0.9947948071323405\u001b[39m,\n",
       "  \u001b[32m0.003313739929634796\u001b[39m,\n",
       "  \u001b[32m0.14559323348713815\u001b[39m,\n",
       "  \u001b[32m0.3152029416235318\u001b[39m,\n",
       "  \u001b[32m0.7572600490638752\u001b[39m,\n",
       "  \u001b[32m0.2465695667673815\u001b[39m,\n",
       "  \u001b[32m0.19142480968817843\u001b[39m\n",
       ")\n",
       "\u001b[36mphonemeInputsB\u001b[39m: \u001b[32mList\u001b[39m[\u001b[32mDouble\u001b[39m] = \u001b[33mList\u001b[39m(\n",
       "  \u001b[32m0.3152029416235318\u001b[39m,\n",
       "  \u001b[32m0.2465695667673815\u001b[39m,\n",
       "  \u001b[32m0.8814663053453828\u001b[39m,\n",
       "  \u001b[32m0.8620796120302979\u001b[39m,\n",
       "  \u001b[32m0.8004712776131678\u001b[39m,\n",
       "  \u001b[32m0.9947948071323405\u001b[39m,\n",
       "  \u001b[32m0.19142480968817843\u001b[39m,\n",
       "  \u001b[32m0.9082373718629937\u001b[39m,\n",
       "  \u001b[32m0.003313739929634796\u001b[39m,\n",
       "  \u001b[32m0.17349118757740145\u001b[39m,\n",
       "  \u001b[32m0.5801709007050992\u001b[39m,\n",
       "  \u001b[32m0.14559323348713815\u001b[39m,\n",
       "  \u001b[32m0.6728265869148239\u001b[39m,\n",
       "  \u001b[32m0.48176240059355824\u001b[39m,\n",
       "  \u001b[32m0.7572600490638752\u001b[39m,\n",
       "  \u001b[32m0.6369919065871824\u001b[39m,\n",
       "  \u001b[32m0.9254042370225231\u001b[39m,\n",
       "  \u001b[32m0.7684689842797472\u001b[39m,\n",
       "  \u001b[32m0.05302102811410647\u001b[39m,\n",
       "  \u001b[32m0.7983344460478886\u001b[39m\n",
       ")\n",
       "\u001b[36mthreshold\u001b[39m: \u001b[32mDouble\u001b[39m = \u001b[32m0.1\u001b[39m\n",
       "\u001b[36minitialCategorization\u001b[39m: \u001b[32mSet\u001b[39m[\u001b[32mDouble\u001b[39m] = \u001b[33mSet\u001b[39m(\u001b[32m0.5\u001b[39m)\n",
       "\u001b[36memptyExemplars\u001b[39m: \u001b[32mMap\u001b[39m[\u001b[32mDouble\u001b[39m, \u001b[32mList\u001b[39m[\u001b[32mNothing\u001b[39m]] = \u001b[33mMap\u001b[39m(\u001b[32m0.5\u001b[39m -> \u001b[33mList\u001b[39m())\n",
       "\u001b[36moutputUnwA\u001b[39m: \u001b[32mCategoriesAndExemplars\u001b[39m = \u001b[33mCategoriesAndExemplars\u001b[39m(\n",
       "  categories = \u001b[33mHashSet\u001b[39m(\n",
       "    \u001b[32m0.17548351011022412\u001b[39m,\n",
       "    \u001b[32m0.6407039952804823\u001b[39m,\n",
       "    \u001b[32m0.28088625419545665\u001b[39m,\n",
       "    \u001b[32m0.9558078057875494\u001b[39m,\n",
       "    \u001b[32m0.028167384021870634\u001b[39m,\n",
       "    \u001b[32m0.4908812002967791\u001b[39m,\n",
       "    \u001b[32m0.7883809510309251\u001b[39m\n",
       "  ),\n",
       "  exemplars = \u001b[33mHashMap\u001b[39m(\n",
       "    \u001b[32m0.17548351011022412\u001b[39m -> \u001b[33mList\u001b[39m(\n",
       "      \u001b[32m0.17349118757740145\u001b[39m,\n",
       "      \u001b[32m0.14559323348713815\u001b[39m,\n",
       "      \u001b[32m0.19142480968817843\u001b[39m\n",
       "    ),\n",
       "    \u001b[32m0.6407039952804823\u001b[39m -> \u001b[33mList\u001b[39m(\n",
       "      \u001b[32m0.6369919065871824\u001b[39m,\n",
       "      \u001b[32m0.5801709007050992\u001b[39m,\n",
       "      \u001b[32m0.6728265869148239\u001b[39m\n",
       "    ),\n",
       "    \u001b[32m0.28088625419545665\u001b[39m -> \u001b[33mList\u001b[39m(\u001b[32m0.3152029416235318\u001b[39m, \u001b[32m0.2465695667673815\u001b[39m),\n",
       "    \u001b[32m0.9558078057875494\u001b[39m -> \u001b[33mList\u001b[39m(\n",
       "      \u001b[32m0.9254042370225231\u001b[39m,\n",
       "      \u001b[32m0.9082373718629937\u001b[39m,\n",
       "      \u001b[32m0.9947948071323405\u001b[39m\n",
       "    ),\n",
       "    \u001b[32m0.028167384021870634\u001b[39m -> \u001b[33mList\u001b[39m(\u001b[32m0.05302102811410647\u001b[39m, \u001b[32m0.003313739929634796\u001b[39m),\n",
       "    \u001b[32m0.4908812002967791\u001b[39m -> \u001b[33mList\u001b[39m(\u001b[32m0.48176240059355824\u001b[39m),\n",
       "    \u001b[32m0.7883809510309251\u001b[39m -> \u001b[33mList\u001b[39m(\n",
       "      \u001b[32m0.8620796120302979\u001b[39m,\n",
       "      \u001b[32m0.8004712776131678\u001b[39m,\n",
       "      \u001b[32m0.7684689842797472\u001b[39m,\n",
       "      \u001b[32m0.8814663053453828\u001b[39m,\n",
       "      \u001b[32m0.7983344460478886\u001b[39m,\n",
       "      \u001b[32m0.7572600490638752\u001b[39m\n",
       "    )\n",
       "  )\n",
       ")\n",
       "\u001b[36moutputUnwB\u001b[39m: \u001b[32mCategoriesAndExemplars\u001b[39m = \u001b[33mCategoriesAndExemplars\u001b[39m(\n",
       "  categories = \u001b[33mHashSet\u001b[39m(\n",
       "    \u001b[32m0.898791991014636\u001b[39m,\n",
       "    \u001b[32m0.9947948071323405\u001b[39m,\n",
       "    \u001b[32m0.7602888721659475\u001b[39m,\n",
       "    \u001b[32m0.028167384021870634\u001b[39m,\n",
       "    \u001b[32m0.17520829662337384\u001b[39m,\n",
       "    \u001b[32m0.510923925473054\u001b[39m\n",
       "  ),\n",
       "  exemplars = \u001b[33mHashMap\u001b[39m(\n",
       "    \u001b[32m0.898791991014636\u001b[39m -> \u001b[33mList\u001b[39m(\n",
       "      \u001b[32m0.8814663053453828\u001b[39m,\n",
       "      \u001b[32m0.8620796120302979\u001b[39m,\n",
       "      \u001b[32m0.8004712776131678\u001b[39m,\n",
       "      \u001b[32m0.9082373718629937\u001b[39m,\n",
       "      \u001b[32m0.9254042370225231\u001b[39m\n",
       "    ),\n",
       "    \u001b[32m0.9947948071323405\u001b[39m -> \u001b[33mList\u001b[39m(\u001b[32m0.9947948071323405\u001b[39m),\n",
       "    \u001b[32m0.7602888721659475\u001b[39m -> \u001b[33mList\u001b[39m(\n",
       "      \u001b[32m0.6728265869148239\u001b[39m,\n",
       "      \u001b[32m0.7572600490638752\u001b[39m,\n",
       "      \u001b[32m0.6369919065871824\u001b[39m,\n",
       "      \u001b[32m0.7684689842797472\u001b[39m,\n",
       "      \u001b[32m0.7983344460478886\u001b[39m\n",
       "    ),\n",
       "    \u001b[32m0.028167384021870634\u001b[39m -> \u001b[33mList\u001b[39m(\u001b[32m0.003313739929634796\u001b[39m, \u001b[32m0.05302102811410647\u001b[39m),\n",
       "    \u001b[32m0.17520829662337384\u001b[39m -> \u001b[33mList\u001b[39m(\n",
       "      \u001b[32m0.3152029416235318\u001b[39m,\n",
       "      \u001b[32m0.2465695667673815\u001b[39m,\n",
       "      \u001b[32m0.19142480968817843\u001b[39m,\n",
       "      \u001b[32m0.17349118757740145\u001b[39m,\n",
       "      \u001b[32m0.14559323348713815\u001b[39m\n",
       "    ),\n",
       "    \u001b[32m0.510923925473054\u001b[39m -> \u001b[33mList\u001b[39m(\u001b[32m0.5801709007050992\u001b[39m, \u001b[32m0.48176240059355824\u001b[39m)\n",
       "  )\n",
       ")\n",
       "\u001b[36moutputWeA\u001b[39m: \u001b[32mCategoriesAndExemplars\u001b[39m = \u001b[33mCategoriesAndExemplars\u001b[39m(\n",
       "  categories = \u001b[33mHashSet\u001b[39m(\n",
       "    \u001b[32m0.28088625419545665\u001b[39m,\n",
       "    \u001b[32m0.9428121386726191\u001b[39m,\n",
       "    \u001b[32m0.8113467790633933\u001b[39m,\n",
       "    \u001b[32m0.028167384021870634\u001b[39m,\n",
       "    \u001b[32m0.6299964647357018\u001b[39m,\n",
       "    \u001b[32m0.17016974358423934\u001b[39m,\n",
       "    \u001b[32m0.48176240059355824\u001b[39m\n",
       "  ),\n",
       "  exemplars = \u001b[33mHashMap\u001b[39m(\n",
       "    \u001b[32m0.28088625419545665\u001b[39m -> \u001b[33mList\u001b[39m(\u001b[32m0.3152029416235318\u001b[39m, \u001b[32m0.2465695667673815\u001b[39m),\n",
       "    \u001b[32m0.9428121386726191\u001b[39m -> \u001b[33mList\u001b[39m(\n",
       "      \u001b[32m0.9254042370225231\u001b[39m,\n",
       "      \u001b[32m0.9082373718629937\u001b[39m,\n",
       "      \u001b[32m0.9947948071323405\u001b[39m\n",
       "    ),\n",
       "    \u001b[32m0.8113467790633933\u001b[39m -> \u001b[33mList\u001b[39m(\n",
       "      \u001b[32m0.8620796120302979\u001b[39m,\n",
       "      \u001b[32m0.8004712776131678\u001b[39m,\n",
       "      \u001b[32m0.7684689842797472\u001b[39m,\n",
       "      \u001b[32m0.8814663053453828\u001b[39m,\n",
       "      \u001b[32m0.7983344460478886\u001b[39m,\n",
       "      \u001b[32m0.7572600490638752\u001b[39m\n",
       "    ),\n",
       "    \u001b[32m0.028167384021870634\u001b[39m -> \u001b[33mList\u001b[39m(\u001b[32m0.05302102811410647\u001b[39m, \u001b[32m0.003313739929634796\u001b[39m),\n",
       "    \u001b[32m0.6299964647357018\u001b[39m -> \u001b[33mList\u001b[39m(\n",
       "      \u001b[32m0.6369919065871824\u001b[39m,\n",
       "      \u001b[32m0.5801709007050992\u001b[39m,\n",
       "      \u001b[32m0.6728265869148239\u001b[39m\n",
       "    ),\n",
       "    \u001b[32m0.17016974358423934\u001b[39m -> \u001b[33mList\u001b[39m(\n",
       "      \u001b[32m0.17349118757740145\u001b[39m,\n",
       "      \u001b[32m0.14559323348713815\u001b[39m,\n",
       "      \u001b[32m0.19142480968817843\u001b[39m\n",
       "    ),\n",
       "    \u001b[32m0.48176240059355824\u001b[39m -> \u001b[33mList\u001b[39m(\u001b[32m0.48176240059355824\u001b[39m)\n",
       "  )\n",
       ")\n",
       "\u001b[36moutputWeB\u001b[39m: \u001b[32mCategoriesAndExemplars\u001b[39m = \u001b[33mCategoriesAndExemplars\u001b[39m(\n",
       "  categories = \u001b[33mHashSet\u001b[39m(\n",
       "    \u001b[32m0.9947948071323405\u001b[39m,\n",
       "    \u001b[32m0.8755317607748732\u001b[39m,\n",
       "    \u001b[32m0.774687826463837\u001b[39m,\n",
       "    \u001b[32m0.48176240059355824\u001b[39m,\n",
       "    \u001b[32m0.2144563478287263\u001b[39m,\n",
       "    \u001b[32m0.028167384021870634\u001b[39m,\n",
       "    \u001b[32m0.6299964647357018\u001b[39m\n",
       "  ),\n",
       "  exemplars = \u001b[33mHashMap\u001b[39m(\n",
       "    \u001b[32m0.9947948071323405\u001b[39m -> \u001b[33mList\u001b[39m(\u001b[32m0.9947948071323405\u001b[39m),\n",
       "    \u001b[32m0.8755317607748732\u001b[39m -> \u001b[33mList\u001b[39m(\n",
       "      \u001b[32m0.8814663053453828\u001b[39m,\n",
       "      \u001b[32m0.8620796120302979\u001b[39m,\n",
       "      \u001b[32m0.8004712776131678\u001b[39m,\n",
       "      \u001b[32m0.9082373718629937\u001b[39m,\n",
       "      \u001b[32m0.9254042370225231\u001b[39m\n",
       "    ),\n",
       "    \u001b[32m0.774687826463837\u001b[39m -> \u001b[33mList\u001b[39m(\n",
       "      \u001b[32m0.7572600490638752\u001b[39m,\n",
       "      \u001b[32m0.7684689842797472\u001b[39m,\n",
       "      \u001b[32m0.7983344460478886\u001b[39m\n",
       "    ),\n",
       "    \u001b[32m0.48176240059355824\u001b[39m -> \u001b[33mList\u001b[39m(\u001b[32m0.48176240059355824\u001b[39m),\n",
       "    \u001b[32m0.2144563478287263\u001b[39m -> \u001b[33mList\u001b[39m(\n",
       "      \u001b[32m0.3152029416235318\u001b[39m,\n",
       "      \u001b[32m0.2465695667673815\u001b[39m,\n",
       "      \u001b[32m0.19142480968817843\u001b[39m,\n",
       "      \u001b[32m0.17349118757740145\u001b[39m,\n",
       "      \u001b[32m0.14559323348713815\u001b[39m\n",
       "    ),\n",
       "    \u001b[32m0.028167384021870634\u001b[39m -> \u001b[33mList\u001b[39m(\u001b[32m0.003313739929634796\u001b[39m, \u001b[32m0.05302102811410647\u001b[39m),\n",
       "    \u001b[32m0.6299964647357018\u001b[39m -> \u001b[33mList\u001b[39m(\n",
       "      \u001b[32m0.5801709007050992\u001b[39m,\n",
       "      \u001b[32m0.6728265869148239\u001b[39m,\n",
       "      \u001b[32m0.6369919065871824\u001b[39m\n",
       "    )\n",
       "  )\n",
       ")\n",
       "\u001b[36mdata\u001b[39m: \u001b[32mSeq\u001b[39m[\u001b[32mScatter\u001b[39m] = \u001b[33mList\u001b[39m(\n",
       "  \u001b[33mScatter\u001b[39m(\n",
       "    x = \u001b[33mSome\u001b[39m(\n",
       "      value = \u001b[33mDoubles\u001b[39m(\n",
       "        seq = \u001b[33mList\u001b[39m(\n",
       "          \u001b[32m0.6369919065871824\u001b[39m,\n",
       "          \u001b[32m0.8620796120302979\u001b[39m,\n",
       "          \u001b[32m0.8004712776131678\u001b[39m,\n",
       "          \u001b[32m0.7684689842797472\u001b[39m,\n",
       "          \u001b[32m0.5801709007050992\u001b[39m,\n",
       "          \u001b[32m0.8814663053453828\u001b[39m,\n",
       "          \u001b[32m0.7983344460478886\u001b[39m,\n",
       "          \u001b[32m0.9254042370225231\u001b[39m,\n",
       "          \u001b[32m0.48176240059355824\u001b[39m,\n",
       "          \u001b[32m0.05302102811410647\u001b[39m,\n",
       "          \u001b[32m0.6728265869148239\u001b[39m,\n",
       "          \u001b[32m0.9082373718629937\u001b[39m,\n",
       "          \u001b[32m0.17349118757740145\u001b[39m,\n",
       "          \u001b[32m0.9947948071323405\u001b[39m,\n",
       "          \u001b[32m0.003313739929634796\u001b[39m,\n",
       "          \u001b[32m0.14559323348713815\u001b[39m,\n",
       "          \u001b[32m0.3152029416235318\u001b[39m,\n",
       "          \u001b[32m0.7572600490638752\u001b[39m,\n",
       "          \u001b[32m0.2465695667673815\u001b[39m,\n",
       "          \u001b[32m0.19142480968817843\u001b[39m\n",
       "        )\n",
       "      )\n",
       "    ),\n",
       "    y = \u001b[33mSome\u001b[39m(\n",
       "      value = \u001b[33mDoubles\u001b[39m(\n",
       "        seq = \u001b[33mList\u001b[39m(\n",
       "          \u001b[32m0.0\u001b[39m,\n",
       "          \u001b[32m0.0\u001b[39m,\n",
       "          \u001b[32m0.0\u001b[39m,\n",
       "          \u001b[32m0.0\u001b[39m,\n",
       "          \u001b[32m0.0\u001b[39m,\n",
       "          \u001b[32m0.0\u001b[39m,\n",
       "          \u001b[32m0.0\u001b[39m,\n",
       "          \u001b[32m0.0\u001b[39m,\n",
       "...\n",
       "\u001b[36mres35_11\u001b[39m: \u001b[32mString\u001b[39m = \u001b[32m\"plot-75f0c0d9-a903-456e-aa34-76e57a7f4d5e\"\u001b[39m"
      ]
     },
     "execution_count": 36,
     "metadata": {},
     "output_type": "execute_result"
    }
   ],
   "source": [
    "val numberOfPhonemes = 20\n",
    "val phonemeInputsA = List.tabulate(numberOfPhonemes)(_ => Random.nextDouble)\n",
    "val phonemeInputsB = Random.shuffle(phonemeInputsA)\n",
    "val threshold = 0.1\n",
    "val initialCategorization = Set(0.5) // or Set() or Set(0.25, 0.75) ...\n",
    "val emptyExemplars = initialCategorization.map(_ -> List()).toMap\n",
    "\n",
    "val outputUnwA: CategoriesAndExemplars = multiPhonemeCategorizationUnw(\n",
    "    phonemeInputsA,\n",
    "    threshold,\n",
    "    initialCategorization,\n",
    "    exemplars = emptyExemplars\n",
    ")\n",
    "val outputUnwB: CategoriesAndExemplars = multiPhonemeCategorizationUnw(\n",
    "    phonemeInputsB,\n",
    "    threshold,\n",
    "    initialCategorization,\n",
    "    exemplars = emptyExemplars\n",
    ")\n",
    "val outputWeA: CategoriesAndExemplars = multiPhonemeCategorizationWe(\n",
    "    phonemeInputsA,\n",
    "    threshold,\n",
    "    initialCategorization,\n",
    "    exemplars = emptyExemplars\n",
    ")\n",
    "val outputWeB: CategoriesAndExemplars = multiPhonemeCategorizationWe(\n",
    "    phonemeInputsB,\n",
    "    threshold,\n",
    "    initialCategorization,\n",
    "    exemplars = emptyExemplars\n",
    ")\n",
    "\n",
    "// The code below plots the data in a simple figure.\n",
    "val data = Seq(\n",
    "    Scatter(\n",
    "        phonemeInputsA,\n",
    "        phonemeInputsA.map(_ => 0), // hack to plot on a 1D line\n",
    "        mode = ScatterMode(ScatterMode.Markers),\n",
    "        marker = Marker().withColor(Color.StringColor(\"grey\"))\n",
    "    ).withName(\"Exemplars\"),\n",
    "    Scatter(\n",
    "        outputUnwA.categories.toList,\n",
    "        outputUnwA.categories.toList.map(_ => 0), // hack to plot on a 1D line\n",
    "        mode = ScatterMode(ScatterMode.Markers),\n",
    "        marker = Marker(symbol = Symbol.Cross()).withColor(Color.StringColor(\"red\"))\n",
    "    ).withName(\"UnwCategoriesA\"),\n",
    "    Scatter(\n",
    "        outputWeA.categories.toList,\n",
    "        outputWeA.categories.toList.map(_ => 0), // hack to plot on a second 1D line\n",
    "        mode = ScatterMode(ScatterMode.Markers),\n",
    "        marker = Marker(symbol = Symbol.Cross()).withColor(Color.StringColor(\"blue\"))\n",
    "    ).withName(\"WeCategoriesA\"),\n",
    "    Scatter(\n",
    "        outputUnwB.categories.toList,\n",
    "        outputUnwB.categories.toList.map(_ => 0.1), // hack to plot on a 1D line\n",
    "        mode = ScatterMode(ScatterMode.Markers),\n",
    "        marker = Marker(symbol = Symbol.Cross()).withColor(Color.RGB(128,0,0))\n",
    "    ).withName(\"UnwCategoriesB\"),\n",
    "    Scatter(\n",
    "        outputWeB.categories.toList,\n",
    "        outputWeB.categories.toList.map(_ => 0.1), // hack to plot on a second 1D line\n",
    "        mode = ScatterMode(ScatterMode.Markers),\n",
    "        marker = Marker(symbol = Symbol.Cross()).withColor(Color.RGB(0,0,128))\n",
    "    ).withName(\"WeCategoriesB\")\n",
    ")\n",
    "\n",
    "plot(data, Layout().withYaxis(Axis().withRange(Range.Doubles(-0.5,0.5))))"
   ]
  }
 ],
 "metadata": {
  "kernelspec": {
   "display_name": "Scala",
   "language": "scala",
   "name": "scala"
  },
  "language_info": {
   "codemirror_mode": "text/x-scala",
   "file_extension": ".sc",
   "mimetype": "text/x-scala",
   "name": "scala",
   "nbconvert_exporter": "script",
   "version": "2.13.5"
  }
 },
 "nbformat": 4,
 "nbformat_minor": 5
}
